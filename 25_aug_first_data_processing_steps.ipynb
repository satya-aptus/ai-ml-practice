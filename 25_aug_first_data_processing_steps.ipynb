{
  "nbformat": 4,
  "nbformat_minor": 0,
  "metadata": {
    "colab": {
      "name": "data_preprocessing_template.ipynb",
      "provenance": [],
      "collapsed_sections": [],
      "toc_visible": true,
      "include_colab_link": true
    },
    "kernelspec": {
      "name": "python3",
      "display_name": "Python 3"
    }
  },
  "cells": [
    {
      "cell_type": "markdown",
      "metadata": {
        "id": "view-in-github",
        "colab_type": "text"
      },
      "source": [
        "<a href=\"https://colab.research.google.com/github/satyaprakashmehta/ai-ml-practice/blob/master/25_aug_first_data_processing_steps.ipynb\" target=\"_parent\"><img src=\"https://colab.research.google.com/assets/colab-badge.svg\" alt=\"Open In Colab\"/></a>"
      ]
    },
    {
      "cell_type": "markdown",
      "metadata": {
        "id": "WOw8yMd1VlnD",
        "colab_type": "text"
      },
      "source": [
        "# Data Preprocessing Template"
      ]
    },
    {
      "cell_type": "markdown",
      "metadata": {
        "id": "NvUGC8QQV6bV",
        "colab_type": "text"
      },
      "source": [
        "## Importing the libraries"
      ]
    },
    {
      "cell_type": "code",
      "metadata": {
        "id": "wfFEXZC0WS-V",
        "colab_type": "code",
        "colab": {}
      },
      "source": [
        "import numpy as np\n",
        "import matplotlib.pyplot as plt\n",
        "import pandas as pd"
      ],
      "execution_count": 33,
      "outputs": []
    },
    {
      "cell_type": "markdown",
      "metadata": {
        "id": "fhYaZ-ENV_c5",
        "colab_type": "text"
      },
      "source": [
        "## Importing the dataset"
      ]
    },
    {
      "cell_type": "code",
      "metadata": {
        "id": "aqHTg9bxWT_u",
        "colab_type": "code",
        "colab": {
          "base_uri": "https://localhost:8080/",
          "height": 391
        },
        "outputId": "a6dd1bee-7306-4d90-85d6-62e3af80399d"
      },
      "source": [
        "dataset = pd.read_csv(\"https://raw.githubusercontent.com/satyaprakashmehta/ai-ml-practice/master/reports.csv\")\n",
        "X = dataset.iloc[:, :-1].values\n",
        "Y = dataset.iloc[:, -1].values \n",
        "\n",
        "print(X)\n",
        "print(Y)"
      ],
      "execution_count": 43,
      "outputs": [
        {
          "output_type": "stream",
          "text": [
            "[['Bihar' 23 'male' 'single' 'veg' 'student' 12.0 2100.0]\n",
            " ['Delhi' 32 'female' 'married' 'veg' 'professional' 15.0 1600.0]\n",
            " ['Karnataka' 22 'male' 'single' 'veg' 'student' 18.0 1450.0]\n",
            " ['Punjab' 29 'female' nan 'nonveg' 'professional' 17.0 1660.0]\n",
            " ['Bihar' 25 'male' 'single' 'veg' 'professional' 35.0 1290.0]\n",
            " ['Punjab' 32 'male' 'married' 'nonveg' 'professional' nan 1360.0]\n",
            " ['Karnataka' 23 'female' nan 'nonveg' 'student' nan 1200.0]\n",
            " ['Bihar' 25 'female' 'married' nan 'professional' 12.0 2500.0]\n",
            " ['Punjab' 26 'male' 'single' 'veg' 'student' 21.0 2210.0]\n",
            " ['Bihar' 28 'male' 'married' nan 'professional' 12.0 2200.0]\n",
            " ['Delhi' 31 'male' 'married' 'nonveg' 'professional' nan 1530.0]\n",
            " ['Karnataka' 21 'female' 'single' 'nonveg' 'student' 11.0 nan]\n",
            " ['Punjab' 25 'male' 'single' 'veg' 'student' nan 2000.0]\n",
            " ['Delhi' 28 'female' 'single' 'veg' 'professional' 15.0 1580.0]\n",
            " ['Delhi' 32 'male' 'married' 'veg' 'professional' 17.0 1360.0]\n",
            " ['Bihar' 21 'female' 'married' 'nonveg' 'student' 1.0 nan]\n",
            " ['Delhi' 29 'male' 'single' 'nonveg' 'professional' 10.0 1820.0]\n",
            " ['Karnataka' 21 'female' 'married' 'nonveg' 'student' 24.0 1580.0]\n",
            " ['Punjab' 28 'male' 'single' 'veg' 'professional' 26.0 1340.0]\n",
            " ['Karnataka' 31 'male' 'married' 'veg' 'professional' 32.0 nan]]\n",
            "['yes' 'yes' 'no' 'yes' 'no' 'no' 'no' 'yes' 'no' 'yes' 'yes' 'yes' 'no'\n",
            " 'no' 'yes' 'no' 'yes' 'no' 'no' 'yes']\n"
          ],
          "name": "stdout"
        }
      ]
    },
    {
      "cell_type": "markdown",
      "metadata": {
        "id": "2clkq1Xhm7X0",
        "colab_type": "text"
      },
      "source": [
        "# **Taking Care of Missing Data**"
      ]
    },
    {
      "cell_type": "code",
      "metadata": {
        "id": "MSc3Ncb_nDg5",
        "colab_type": "code",
        "colab": {
          "base_uri": "https://localhost:8080/",
          "height": 357
        },
        "outputId": "d5ff4c41-6a36-4de3-f8dd-9fdd195e3ab5"
      },
      "source": [
        "from sklearn.impute import SimpleImputer \n",
        "imputer = SimpleImputer(missing_values=np.nan, strategy='most_frequent') \n",
        "\n",
        "imputer.fit(X)\n",
        "X=imputer.transform(X)\n",
        "print(X)\t\n",
        "\n",
        "\n",
        "#imputer.fit(Y)\n",
        "#Y=imputer.transform(Y)\n",
        "#print(Y)"
      ],
      "execution_count": 44,
      "outputs": [
        {
          "output_type": "stream",
          "text": [
            "[['Bihar' 23 'male' 'single' 'veg' 'student' 12.0 2100.0]\n",
            " ['Delhi' 32 'female' 'married' 'veg' 'professional' 15.0 1600.0]\n",
            " ['Karnataka' 22 'male' 'single' 'veg' 'student' 18.0 1450.0]\n",
            " ['Punjab' 29 'female' 'married' 'nonveg' 'professional' 17.0 1660.0]\n",
            " ['Bihar' 25 'male' 'single' 'veg' 'professional' 35.0 1290.0]\n",
            " ['Punjab' 32 'male' 'married' 'nonveg' 'professional' 12.0 1360.0]\n",
            " ['Karnataka' 23 'female' 'married' 'nonveg' 'student' 12.0 1200.0]\n",
            " ['Bihar' 25 'female' 'married' 'veg' 'professional' 12.0 2500.0]\n",
            " ['Punjab' 26 'male' 'single' 'veg' 'student' 21.0 2210.0]\n",
            " ['Bihar' 28 'male' 'married' 'veg' 'professional' 12.0 2200.0]\n",
            " ['Delhi' 31 'male' 'married' 'nonveg' 'professional' 12.0 1530.0]\n",
            " ['Karnataka' 21 'female' 'single' 'nonveg' 'student' 11.0 1360.0]\n",
            " ['Punjab' 25 'male' 'single' 'veg' 'student' 12.0 2000.0]\n",
            " ['Delhi' 28 'female' 'single' 'veg' 'professional' 15.0 1580.0]\n",
            " ['Delhi' 32 'male' 'married' 'veg' 'professional' 17.0 1360.0]\n",
            " ['Bihar' 21 'female' 'married' 'nonveg' 'student' 1.0 1360.0]\n",
            " ['Delhi' 29 'male' 'single' 'nonveg' 'professional' 10.0 1820.0]\n",
            " ['Karnataka' 21 'female' 'married' 'nonveg' 'student' 24.0 1580.0]\n",
            " ['Punjab' 28 'male' 'single' 'veg' 'professional' 26.0 1340.0]\n",
            " ['Karnataka' 31 'male' 'married' 'veg' 'professional' 32.0 1360.0]]\n"
          ],
          "name": "stdout"
        }
      ]
    },
    {
      "cell_type": "markdown",
      "metadata": {
        "id": "KF0mZUPKqnkN",
        "colab_type": "text"
      },
      "source": [
        "# Encoading the independent \n"
      ]
    },
    {
      "cell_type": "code",
      "metadata": {
        "id": "IHFOGISxqt9K",
        "colab_type": "code",
        "colab": {
          "base_uri": "https://localhost:8080/",
          "height": 357
        },
        "outputId": "55066815-97c1-475e-ca2d-587a88c80ad4"
      },
      "source": [
        "from sklearn.compose import ColumnTransformer\n",
        "from sklearn.preprocessing import OneHotEncoder\n",
        "\n",
        "ct = ColumnTransformer(transformers=[(\"encoder\", OneHotEncoder(), [0,2,3,4,5])], remainder=\"passthrough\")\n",
        "X = np.array(ct.fit_transform(X))\n",
        "\n",
        "print(X)"
      ],
      "execution_count": 45,
      "outputs": [
        {
          "output_type": "stream",
          "text": [
            "[[1.0 0.0 0.0 0.0 0.0 1.0 0.0 1.0 0.0 1.0 0.0 1.0 23 12.0 2100.0]\n",
            " [0.0 1.0 0.0 0.0 1.0 0.0 1.0 0.0 0.0 1.0 1.0 0.0 32 15.0 1600.0]\n",
            " [0.0 0.0 1.0 0.0 0.0 1.0 0.0 1.0 0.0 1.0 0.0 1.0 22 18.0 1450.0]\n",
            " [0.0 0.0 0.0 1.0 1.0 0.0 1.0 0.0 1.0 0.0 1.0 0.0 29 17.0 1660.0]\n",
            " [1.0 0.0 0.0 0.0 0.0 1.0 0.0 1.0 0.0 1.0 1.0 0.0 25 35.0 1290.0]\n",
            " [0.0 0.0 0.0 1.0 0.0 1.0 1.0 0.0 1.0 0.0 1.0 0.0 32 12.0 1360.0]\n",
            " [0.0 0.0 1.0 0.0 1.0 0.0 1.0 0.0 1.0 0.0 0.0 1.0 23 12.0 1200.0]\n",
            " [1.0 0.0 0.0 0.0 1.0 0.0 1.0 0.0 0.0 1.0 1.0 0.0 25 12.0 2500.0]\n",
            " [0.0 0.0 0.0 1.0 0.0 1.0 0.0 1.0 0.0 1.0 0.0 1.0 26 21.0 2210.0]\n",
            " [1.0 0.0 0.0 0.0 0.0 1.0 1.0 0.0 0.0 1.0 1.0 0.0 28 12.0 2200.0]\n",
            " [0.0 1.0 0.0 0.0 0.0 1.0 1.0 0.0 1.0 0.0 1.0 0.0 31 12.0 1530.0]\n",
            " [0.0 0.0 1.0 0.0 1.0 0.0 0.0 1.0 1.0 0.0 0.0 1.0 21 11.0 1360.0]\n",
            " [0.0 0.0 0.0 1.0 0.0 1.0 0.0 1.0 0.0 1.0 0.0 1.0 25 12.0 2000.0]\n",
            " [0.0 1.0 0.0 0.0 1.0 0.0 0.0 1.0 0.0 1.0 1.0 0.0 28 15.0 1580.0]\n",
            " [0.0 1.0 0.0 0.0 0.0 1.0 1.0 0.0 0.0 1.0 1.0 0.0 32 17.0 1360.0]\n",
            " [1.0 0.0 0.0 0.0 1.0 0.0 1.0 0.0 1.0 0.0 0.0 1.0 21 1.0 1360.0]\n",
            " [0.0 1.0 0.0 0.0 0.0 1.0 0.0 1.0 1.0 0.0 1.0 0.0 29 10.0 1820.0]\n",
            " [0.0 0.0 1.0 0.0 1.0 0.0 1.0 0.0 1.0 0.0 0.0 1.0 21 24.0 1580.0]\n",
            " [0.0 0.0 0.0 1.0 0.0 1.0 0.0 1.0 0.0 1.0 1.0 0.0 28 26.0 1340.0]\n",
            " [0.0 0.0 1.0 0.0 0.0 1.0 1.0 0.0 0.0 1.0 1.0 0.0 31 32.0 1360.0]]\n"
          ],
          "name": "stdout"
        }
      ]
    },
    {
      "cell_type": "markdown",
      "metadata": {
        "id": "Brm04ReD1NWH",
        "colab_type": "text"
      },
      "source": [
        "# Encoding the dependent variable"
      ]
    },
    {
      "cell_type": "code",
      "metadata": {
        "id": "THYYf5iK1Rpy",
        "colab_type": "code",
        "colab": {
          "base_uri": "https://localhost:8080/",
          "height": 34
        },
        "outputId": "c7f0db77-8dcc-4a38-fa4e-7da026e41f40"
      },
      "source": [
        "from sklearn.preprocessing import LabelEncoder\n",
        "\n",
        "le = LabelEncoder()\n",
        "Y = le.fit_transform(Y)\n",
        "\n",
        "print(Y)"
      ],
      "execution_count": 48,
      "outputs": [
        {
          "output_type": "stream",
          "text": [
            "[1 1 0 1 0 0 0 1 0 1 1 1 0 0 1 0 1 0 0 1]\n"
          ],
          "name": "stdout"
        }
      ]
    }
  ]
}