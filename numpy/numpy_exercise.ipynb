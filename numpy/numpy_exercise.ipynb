{
  "nbformat": 4,
  "nbformat_minor": 0,
  "metadata": {
    "colab": {
      "name": "Untitled0.ipynb",
      "provenance": [],
      "authorship_tag": "ABX9TyMpoPUQNtQZylhJ/N2LCVs5",
      "include_colab_link": true
    },
    "kernelspec": {
      "name": "python3",
      "display_name": "Python 3"
    }
  },
  "cells": [
    {
      "cell_type": "markdown",
      "metadata": {
        "id": "view-in-github",
        "colab_type": "text"
      },
      "source": [
        "<a href=\"https://colab.research.google.com/github/satyaprakashmehta/ai-ml-practice/blob/master/numpy/numpy_exercise.ipynb\" target=\"_parent\"><img src=\"https://colab.research.google.com/assets/colab-badge.svg\" alt=\"Open In Colab\"/></a>"
      ]
    },
    {
      "cell_type": "markdown",
      "metadata": {
        "id": "TmN0IqYj6yXd",
        "colab_type": "text"
      },
      "source": [
        "NumPY - Practice"
      ]
    },
    {
      "cell_type": "code",
      "metadata": {
        "id": "1vpmB9tC60yC",
        "colab_type": "code",
        "colab": {}
      },
      "source": [
        "import numpy as np"
      ],
      "execution_count": 1,
      "outputs": []
    },
    {
      "cell_type": "markdown",
      "metadata": {
        "id": "BEqKBlLb75ea",
        "colab_type": "text"
      },
      "source": [
        "1-D Array"
      ]
    },
    {
      "cell_type": "code",
      "metadata": {
        "id": "ft2fO3c563Bd",
        "colab_type": "code",
        "colab": {
          "base_uri": "https://localhost:8080/",
          "height": 102
        },
        "outputId": "77776fbf-35af-4394-d746-6844717aeb7f"
      },
      "source": [
        "one_D_Array = np.array([1,2,3,4])\n",
        "\n",
        "print(one_D_Array)\n",
        "\n",
        "print(one_D_Array.size)\n",
        "\n",
        "print(one_D_Array.ndim)\n",
        "\n",
        "print(one_D_Array.shape)\n",
        "\n",
        "print(one_D_Array.dtype)"
      ],
      "execution_count": 25,
      "outputs": [
        {
          "output_type": "stream",
          "text": [
            "[1 2 3 4]\n",
            "4\n",
            "1\n",
            "(4,)\n",
            "int64\n"
          ],
          "name": "stdout"
        }
      ]
    },
    {
      "cell_type": "markdown",
      "metadata": {
        "id": "28jupR1I78e-",
        "colab_type": "text"
      },
      "source": [
        "2-D Array"
      ]
    },
    {
      "cell_type": "code",
      "metadata": {
        "id": "b_AH27LB7-Ru",
        "colab_type": "code",
        "colab": {
          "base_uri": "https://localhost:8080/",
          "height": 119
        },
        "outputId": "68950ff3-5581-48db-dac1-9f628f350d72"
      },
      "source": [
        "two_D_Array = np.array(([1,2,3,4],[5,6,7,8]))\n",
        "\n",
        "print(two_D_Array)\n",
        "\n",
        "print(two_D_Array.size)\n",
        "\n",
        "print(two_D_Array.ndim)\n",
        "\n",
        "print(two_D_Array.shape)\n",
        "\n",
        "print(two_D_Array.dtype)"
      ],
      "execution_count": 26,
      "outputs": [
        {
          "output_type": "stream",
          "text": [
            "[[1 2 3 4]\n",
            " [5 6 7 8]]\n",
            "8\n",
            "2\n",
            "(2, 4)\n",
            "int64\n"
          ],
          "name": "stdout"
        }
      ]
    },
    {
      "cell_type": "markdown",
      "metadata": {
        "id": "BIG_swvA8iM2",
        "colab_type": "text"
      },
      "source": [
        "1-D Array dtype"
      ]
    },
    {
      "cell_type": "code",
      "metadata": {
        "id": "P4Jay9WC_PZi",
        "colab_type": "code",
        "colab": {
          "base_uri": "https://localhost:8080/",
          "height": 102
        },
        "outputId": "edd2d789-d9c2-4f73-c828-fba48e38623b"
      },
      "source": [
        "one_D_Array = np.array(['a'], dtype=str)\n",
        "\n",
        "print(one_D_Array)\n",
        "\n",
        "print(one_D_Array.size)\n",
        "\n",
        "print(one_D_Array.ndim)\n",
        "\n",
        "print(one_D_Array.shape)\n",
        "\n",
        "print(one_D_Array.dtype)"
      ],
      "execution_count": 29,
      "outputs": [
        {
          "output_type": "stream",
          "text": [
            "['a']\n",
            "1\n",
            "1\n",
            "(1,)\n",
            "<U1\n"
          ],
          "name": "stdout"
        }
      ]
    },
    {
      "cell_type": "markdown",
      "metadata": {
        "id": "KXhvwwEC_4-3",
        "colab_type": "text"
      },
      "source": [
        "1/2-D 0th and 1s Matrix"
      ]
    },
    {
      "cell_type": "code",
      "metadata": {
        "id": "usVmsS8NAAcd",
        "colab_type": "code",
        "colab": {
          "base_uri": "https://localhost:8080/",
          "height": 187
        },
        "outputId": "1992a9be-844b-4fd1-91fe-54f74a47baca"
      },
      "source": [
        "zero_matrix = np.ones([5,5])\n",
        "zero_matrix = np.zeros([5,5])\n",
        "\n",
        "zero_matrix = np.ones([5,5], dtype=int)\n",
        "zero_matrix = np.zeros([5,5], dtype=int)\n",
        "\n",
        "zero_matrix = np.ones([5,5], dtype=bool)\n",
        "zero_matrix = np.zeros([5,5], dtype=bool)\n",
        "\n",
        "zero_matrix = np.ones([5,5], dtype=str)\n",
        "zero_matrix = np.zeros([5,5], dtype=str)\n",
        "\n",
        "\n",
        "zero_matrix = np.empty([5,5])\n",
        "zero_matrix = np.empty([5,5])\n",
        "\n",
        "zero_matrix = np.empty([5,5], dtype=str)\n",
        "zero_matrix = np.empty([5,5], dtype=str)\n",
        "\n",
        "print(zero_matrix)\n",
        "print(zero_matrix.size)\n",
        "print(zero_matrix.ndim)\n",
        "print(zero_matrix.shape)\n",
        "print(zero_matrix.dtype)"
      ],
      "execution_count": 53,
      "outputs": [
        {
          "output_type": "stream",
          "text": [
            "[['' '' '' '' '']\n",
            " ['' '' '' '' '']\n",
            " ['' '' '' '' '']\n",
            " ['' '' '' '' '']\n",
            " ['' '' '' '' '']]\n",
            "25\n",
            "2\n",
            "(5, 5)\n",
            "<U1\n",
            "[1 2 3 4 5 6 7 8 9]\n"
          ],
          "name": "stdout"
        }
      ]
    },
    {
      "cell_type": "code",
      "metadata": {
        "id": "i5CpegerFQY7",
        "colab_type": "code",
        "colab": {
          "base_uri": "https://localhost:8080/",
          "height": 34
        },
        "outputId": "a3cd6fe2-1c97-48cd-d9a3-e78163786302"
      },
      "source": [
        "one_d_array = np.ones(9, dtype=int)\n",
        "\n",
        "print(one_d_array.reshape(3,3).reshape(9))\n",
        "\n",
        "\n"
      ],
      "execution_count": 78,
      "outputs": [
        {
          "output_type": "stream",
          "text": [
            "[1 1 1 1 1 1 1 1 1]\n"
          ],
          "name": "stdout"
        }
      ]
    },
    {
      "cell_type": "code",
      "metadata": {
        "id": "ab4zwmXVGE8i",
        "colab_type": "code",
        "colab": {}
      },
      "source": [
        ""
      ],
      "execution_count": null,
      "outputs": []
    }
  ]
}