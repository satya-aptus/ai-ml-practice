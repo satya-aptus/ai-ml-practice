{
  "nbformat": 4,
  "nbformat_minor": 0,
  "metadata": {
    "colab": {
      "name": "data_preprocessing_template.ipynb",
      "provenance": [],
      "collapsed_sections": [],
      "toc_visible": true,
      "include_colab_link": true
    },
    "kernelspec": {
      "name": "python3",
      "display_name": "Python 3"
    }
  },
  "cells": [
    {
      "cell_type": "markdown",
      "metadata": {
        "id": "view-in-github",
        "colab_type": "text"
      },
      "source": [
        "<a href=\"https://colab.research.google.com/github/satyaprakashmehta/ai-ml-practice/blob/master/first_data_processing_steps.ipynb\" target=\"_parent\"><img src=\"https://colab.research.google.com/assets/colab-badge.svg\" alt=\"Open In Colab\"/></a>"
      ]
    },
    {
      "cell_type": "markdown",
      "metadata": {
        "id": "WOw8yMd1VlnD",
        "colab_type": "text"
      },
      "source": [
        "# Data Preprocessing Template"
      ]
    },
    {
      "cell_type": "markdown",
      "metadata": {
        "id": "NvUGC8QQV6bV",
        "colab_type": "text"
      },
      "source": [
        "## Importing the libraries"
      ]
    },
    {
      "cell_type": "code",
      "metadata": {
        "id": "wfFEXZC0WS-V",
        "colab_type": "code",
        "colab": {}
      },
      "source": [
        "import numpy as np\n",
        "import matplotlib.pyplot as plt\n",
        "import pandas as pd"
      ],
      "execution_count": 2,
      "outputs": []
    },
    {
      "cell_type": "markdown",
      "metadata": {
        "id": "fhYaZ-ENV_c5",
        "colab_type": "text"
      },
      "source": [
        "## Importing the dataset"
      ]
    },
    {
      "cell_type": "code",
      "metadata": {
        "id": "aqHTg9bxWT_u",
        "colab_type": "code",
        "colab": {
          "base_uri": "https://localhost:8080/",
          "height": 408
        },
        "outputId": "d0a52b90-6c25-4a87-94b9-c5bfcd9f8def"
      },
      "source": [
        "dataset = pd.read_csv(\"https://raw.githubusercontent.com/satyaprakashmehta/ai-ml-practice/master/reports.csv\")\n",
        "X = dataset.iloc[:, :-1].values\n",
        "Y = dataset.iloc[:, -1].values \n",
        "\n",
        "print(X)\n",
        "print(Y)"
      ],
      "execution_count": 5,
      "outputs": [
        {
          "output_type": "stream",
          "text": [
            "[['Bihar' 23 'male' 'single' 'veg' 'student' 12.0 2100.0]\n",
            " ['Delhi' 32 'female' 'married' 'veg' 'professional' 15.0 1600.0]\n",
            " ['Karnataka' 22 'male' 'single' 'veg' 'student' 18.0 1450.0]\n",
            " ['Punjab' 29 'female' nan 'nonveg' 'professional' 17.0 1660.0]\n",
            " ['Bihar' 25 'male' 'single' 'veg' 'professional' 35.0 1290.0]\n",
            " ['Punjab' 32 'male' 'married' 'nonveg' 'professional' nan 1360.0]\n",
            " ['Karnataka' 23 'female' nan 'nonveg' 'student' nan 1200.0]\n",
            " ['Bihar' 25 'female' 'married' nan 'professional' 12.0 2500.0]\n",
            " ['Punjab' 26 'male' 'single' 'veg' 'student' 21.0 2210.0]\n",
            " ['Bihar' 28 'male' 'married' nan 'professional' 12.0 2200.0]\n",
            " ['Delhi' 31 'male' 'married' 'nonveg' 'professional' nan 1530.0]\n",
            " ['Karnataka' 21 'female' 'single' 'nonveg' 'student' 11.0 nan]\n",
            " ['Punjab' 25 'male' 'single' 'veg' 'student' nan 2000.0]\n",
            " ['Delhi' 28 'female' 'single' 'veg' 'professional' 15.0 1580.0]\n",
            " ['Delhi' 32 'male' 'married' 'veg' 'professional' 17.0 1360.0]\n",
            " ['Bihar' 21 'female' 'married' 'nonveg' 'student' 1.0 nan]\n",
            " ['Delhi' 29 'male' 'single' 'nonveg' 'professional' 10.0 1820.0]\n",
            " ['Karnataka' 21 'female' 'married' 'nonveg' 'student' 24.0 1580.0]\n",
            " ['Punjab' 28 'male' 'single' 'veg' 'professional' 26.0 1340.0]\n",
            " ['Karnataka' 31 'male' 'married' 'veg' 'professional' 32.0 nan]]\n",
            "\n",
            "['yes' 'yes' 'no' nan 'no' 'no' 'no' 'yes' nan 'yes' 'yes' 'yes' 'no' 'no'\n",
            " 'yes' 'no' 'yes' nan 'no' 'yes']\n"
          ],
          "name": "stdout"
        }
      ]
    },
    {
      "cell_type": "markdown",
      "metadata": {
        "id": "2clkq1Xhm7X0",
        "colab_type": "text"
      },
      "source": [
        "# **Taking Care of Missing Data**"
      ]
    },
    {
      "cell_type": "code",
      "metadata": {
        "id": "MSc3Ncb_nDg5",
        "colab_type": "code",
        "colab": {
          "base_uri": "https://localhost:8080/",
          "height": 357
        },
        "outputId": "0174c0c2-9b8d-4521-d53f-03bb434ead34"
      },
      "source": [
        "from sklearn.impute import SimpleImputer \n",
        "imputer = SimpleImputer(missing_values=np.nan, strategy='most_frequent') \n",
        "\n",
        "imputer.fit(X)\n",
        "X=imputer.transform(X)\n",
        "print(X)\t\n",
        "\n",
        "\n",
        "#imputer.fit(Y)\n",
        "#Y=imputer.transform(Y)\n",
        "#print(Y)"
      ],
      "execution_count": 10,
      "outputs": [
        {
          "output_type": "stream",
          "text": [
            "[['Bihar' 23 'male' 'single' 'veg' 'student' 12.0 2100.0]\n",
            " ['Delhi' 32 'female' 'married' 'veg' 'professional' 15.0 1600.0]\n",
            " ['Karnataka' 22 'male' 'single' 'veg' 'student' 18.0 1450.0]\n",
            " ['Punjab' 29 'female' 'married' 'nonveg' 'professional' 17.0 1660.0]\n",
            " ['Bihar' 25 'male' 'single' 'veg' 'professional' 35.0 1290.0]\n",
            " ['Punjab' 32 'male' 'married' 'nonveg' 'professional' 12.0 1360.0]\n",
            " ['Karnataka' 23 'female' 'married' 'nonveg' 'student' 12.0 1200.0]\n",
            " ['Bihar' 25 'female' 'married' 'veg' 'professional' 12.0 2500.0]\n",
            " ['Punjab' 26 'male' 'single' 'veg' 'student' 21.0 2210.0]\n",
            " ['Bihar' 28 'male' 'married' 'veg' 'professional' 12.0 2200.0]\n",
            " ['Delhi' 31 'male' 'married' 'nonveg' 'professional' 12.0 1530.0]\n",
            " ['Karnataka' 21 'female' 'single' 'nonveg' 'student' 11.0 1360.0]\n",
            " ['Punjab' 25 'male' 'single' 'veg' 'student' 12.0 2000.0]\n",
            " ['Delhi' 28 'female' 'single' 'veg' 'professional' 15.0 1580.0]\n",
            " ['Delhi' 32 'male' 'married' 'veg' 'professional' 17.0 1360.0]\n",
            " ['Bihar' 21 'female' 'married' 'nonveg' 'student' 1.0 1360.0]\n",
            " ['Delhi' 29 'male' 'single' 'nonveg' 'professional' 10.0 1820.0]\n",
            " ['Karnataka' 21 'female' 'married' 'nonveg' 'student' 24.0 1580.0]\n",
            " ['Punjab' 28 'male' 'single' 'veg' 'professional' 26.0 1340.0]\n",
            " ['Karnataka' 31 'male' 'married' 'veg' 'professional' 32.0 1360.0]]\n"
          ],
          "name": "stdout"
        }
      ]
    },
    {
      "cell_type": "markdown",
      "metadata": {
        "id": "44UF9Z5xoejG",
        "colab_type": "text"
      },
      "source": [
        "# Encoding Categorial Data "
      ]
    },
    {
      "cell_type": "markdown",
      "metadata": {
        "id": "KF0mZUPKqnkN",
        "colab_type": "text"
      },
      "source": [
        "encoading the independent variable"
      ]
    },
    {
      "cell_type": "code",
      "metadata": {
        "id": "IHFOGISxqt9K",
        "colab_type": "code",
        "colab": {}
      },
      "source": [
        "from sklearn.compose import ColumnTransformer\n",
        "from sklearn.preprocessing import OneHotEncoder"
      ],
      "execution_count": null,
      "outputs": []
    }
  ]
}