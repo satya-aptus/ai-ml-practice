{
  "nbformat": 4,
  "nbformat_minor": 0,
  "metadata": {
    "colab": {
      "name": "data_preprocessing_template.ipynb",
      "provenance": [],
      "collapsed_sections": [],
      "toc_visible": true,
      "include_colab_link": true
    },
    "kernelspec": {
      "name": "python3",
      "display_name": "Python 3"
    }
  },
  "cells": [
    {
      "cell_type": "markdown",
      "metadata": {
        "id": "view-in-github",
        "colab_type": "text"
      },
      "source": [
        "<a href=\"https://colab.research.google.com/github/satyaprakashmehta/ai-ml-practice/blob/master/data_preprocessing_template_csvRead.ipynb\" target=\"_parent\"><img src=\"https://colab.research.google.com/assets/colab-badge.svg\" alt=\"Open In Colab\"/></a>"
      ]
    },
    {
      "cell_type": "markdown",
      "metadata": {
        "id": "WOw8yMd1VlnD",
        "colab_type": "text"
      },
      "source": [
        "# Data Preprocessing Template"
      ]
    },
    {
      "cell_type": "markdown",
      "metadata": {
        "id": "NvUGC8QQV6bV",
        "colab_type": "text"
      },
      "source": [
        "## Importing the libraries"
      ]
    },
    {
      "cell_type": "code",
      "metadata": {
        "id": "wfFEXZC0WS-V",
        "colab_type": "code",
        "colab": {}
      },
      "source": [
        "import numpy as np\n",
        "import matplotlib.pyplot as plt\n",
        "import pandas as pd"
      ],
      "execution_count": 61,
      "outputs": []
    },
    {
      "cell_type": "markdown",
      "metadata": {
        "id": "fhYaZ-ENV_c5",
        "colab_type": "text"
      },
      "source": [
        "## Importing the dataset"
      ]
    },
    {
      "cell_type": "code",
      "metadata": {
        "id": "aqHTg9bxWT_u",
        "colab_type": "code",
        "colab": {
          "base_uri": "https://localhost:8080/",
          "height": 399
        },
        "outputId": "03f63e72-c801-41c0-dfe3-b8d682b933b4"
      },
      "source": [
        "#dataset = pd.read_csv('https://raw.githubusercontent.com/satyaprakashmehta/ai-ml-practice/master/reports.csv')\n",
        "#X = dataset.iloc[:, :-1].values\n",
        "#y = dataset.iloc[:, -1].values \n",
        "info =pd.read_csv(\"https://raw.githubusercontent.com/satyaprakashmehta/ai-ml-practice/master/reports.csv\") \n",
        "#a =dataset[\"state\"]   \n",
        "\n",
        "#print(info[fields ('age','gender')])\n",
        "print(info.iloc[:,[1,3]]) \n",
        "print(info.loc[:,['age','gender']].head) \n",
        "\n",
        "\n"
      ],
      "execution_count": 97,
      "outputs": [
        {
          "output_type": "stream",
          "text": [
            "<bound method NDFrame.head of     age  gender\n",
            "0    23    male\n",
            "1    32  female\n",
            "2    22    male\n",
            "3    29  female\n",
            "4    25    male\n",
            "5    32    male\n",
            "6    23  female\n",
            "7    25  female\n",
            "8    26    male\n",
            "9    28    male\n",
            "10   31    male\n",
            "11   21  female\n",
            "12   25    male\n",
            "13   28  female\n",
            "14   32    male\n",
            "15   21  female\n",
            "16   29    male\n",
            "17   21  female\n",
            "18   28    male\n",
            "19   31    male>\n"
          ],
          "name": "stdout"
        }
      ]
    },
    {
      "cell_type": "markdown",
      "metadata": {
        "id": "3abSxRqvWEIB",
        "colab_type": "text"
      },
      "source": [
        "## Splitting the dataset into the Training set and Test set"
      ]
    },
    {
      "cell_type": "code",
      "metadata": {
        "id": "hm48sif-WWsh",
        "colab_type": "code",
        "colab": {}
      },
      "source": [
        "from sklearn.model_selection import train_test_split\n",
        "X_train, X_test, y_train, y_test = train_test_split(X, y, test_size = 0.2, random_state = 0)"
      ],
      "execution_count": 63,
      "outputs": []
    }
  ]
}